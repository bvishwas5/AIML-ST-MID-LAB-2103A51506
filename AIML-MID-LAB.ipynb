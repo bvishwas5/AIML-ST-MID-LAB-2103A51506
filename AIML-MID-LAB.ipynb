{
  "nbformat": 4,
  "nbformat_minor": 0,
  "metadata": {
    "colab": {
      "provenance": [],
      "authorship_tag": "ABX9TyMpjy8MfRlfJHnO3/m/ZMlE",
      "include_colab_link": true
    },
    "kernelspec": {
      "name": "python3",
      "display_name": "Python 3"
    },
    "language_info": {
      "name": "python"
    }
  },
  "cells": [
    {
      "cell_type": "markdown",
      "metadata": {
        "id": "view-in-github",
        "colab_type": "text"
      },
      "source": [
        "<a href=\"https://colab.research.google.com/github/bvishwas5/AIML-ST-MID-LAB-2103A51506/blob/main/Untitled.ipynb\" target=\"_parent\"><img src=\"https://colab.research.google.com/assets/colab-badge.svg\" alt=\"Open In Colab\"/></a>"
      ]
    },
    {
      "cell_type": "code",
      "execution_count": 1,
      "metadata": {
        "colab": {
          "base_uri": "https://localhost:8080/"
        },
        "id": "xCSWdRoWGVs1",
        "outputId": "a814a7ec-5b7e-4278-9b74-6b597767de16"
      },
      "outputs": [
        {
          "output_type": "stream",
          "name": "stdout",
          "text": [
            "Testing Accuracy: 100.0 %\n"
          ]
        }
      ],
      "source": [
        "from sklearn.linear_model import LogisticRegression\n",
        "from sklearn.model_selection import train_test_split\n",
        "from sklearn.metrics import accuracy_score\n",
        "\n",
        "X = [\n",
        "    [2, 1, 4],\n",
        "    [3, 4, 5],\n",
        "    [1, 2, 3],\n",
        "    [2, 3, 4],\n",
        "    [0, 1, 2],\n",
        "    [0, 2, 3],\n",
        "    [0, 3, 4],\n",
        "    [0, 4, 5]\n",
        "]\n",
        "\n",
        "y = [1, 1, 1, 1, 0, 0, 0, 0]\n",
        "\n",
        "X_train, X_test, y_train, y_test = train_test_split(\n",
        "    X, y, test_size=0.25, random_state=42\n",
        ")\n",
        "\n",
        "model = LogisticRegression()\n",
        "model.fit(X_train, y_train)\n",
        "\n",
        "y_pred = model.predict(X_test)\n",
        "\n",
        "accuracy = accuracy_score(y_test, y_pred)\n",
        "print(\"Testing Accuracy:\", round(accuracy * 100, 2), \"%\")\n"
      ]
    }
  ]
}
